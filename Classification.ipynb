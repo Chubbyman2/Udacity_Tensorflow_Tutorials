{
  "nbformat": 4,
  "nbformat_minor": 0,
  "metadata": {
    "colab": {
      "name": "Udacity 3.1 - Classification.ipynb",
      "provenance": [],
      "collapsed_sections": [],
      "authorship_tag": "ABX9TyOfBuQk4P6l6LlbcjBcMqI/",
      "include_colab_link": true
    },
    "kernelspec": {
      "name": "python3",
      "display_name": "Python 3"
    },
    "accelerator": "GPU"
  },
  "cells": [
    {
      "cell_type": "markdown",
      "metadata": {
        "id": "view-in-github",
        "colab_type": "text"
      },
      "source": [
        "<a href=\"https://colab.research.google.com/github/Chubbyman2/Udacity_Tensorflow_Tutorials/blob/master/Classification.ipynb\" target=\"_parent\"><img src=\"https://colab.research.google.com/assets/colab-badge.svg\" alt=\"Open In Colab\"/></a>"
      ]
    },
    {
      "cell_type": "markdown",
      "metadata": {
        "id": "AtnXPz_l8CIT",
        "colab_type": "text"
      },
      "source": [
        "**Classification**\n",
        "\n",
        "Classification machine learning models are used for distinguishing among two or more output categories."
      ]
    },
    {
      "cell_type": "code",
      "metadata": {
        "id": "XIyjmtxF62zf",
        "colab_type": "code",
        "colab": {}
      },
      "source": [
        "!pip install -U tensorflow_datasets\n",
        "\n",
        "from __future__ import absolute_import, division, print_function\n",
        "\n",
        "# Tensorflow\n",
        "import tensorflow as tf\n",
        "import tensorflow_datasets as tfds\n",
        "tf.compat.v1.logging.set_verbosity(tf.compat.v1.logging.ERROR)\n",
        "\n",
        "# Helper Libraries\n",
        "import math\n",
        "import numpy as np\n",
        "import matplotlib.pyplot as plt\n",
        "\n",
        "# Improve progress bar display\n",
        "import tqdm\n",
        "import tqdm.auto\n",
        "tqdm.tqdm = tqdm.auto.tqdm"
      ],
      "execution_count": null,
      "outputs": []
    },
    {
      "cell_type": "markdown",
      "metadata": {
        "id": "fAOw8nAt6gCW",
        "colab_type": "text"
      },
      "source": [
        "The input images are 2D arrays of 28x28 pixels. You'll need to flatten them to a 1D array of 784 pixels.\n",
        "\n",
        "The labels 0-9 for each class of clothing will have corresponding output neurons.\n",
        "\n",
        "In the end, the output neuron with the highest probability will indicate what class of clothing is being shown.\n",
        "\n",
        "The 10 numbers (which add up to 1) are known as the **probability distribution**."
      ]
    },
    {
      "cell_type": "code",
      "metadata": {
        "id": "h1wHAH_z6lcU",
        "colab_type": "code",
        "colab": {}
      },
      "source": [
        "# Load Dataset and split into train and test sets\n",
        "dataset, metadata = tfds.load(\"fashion_mnist\", as_supervised=True, with_info=True)\n",
        "train_dataset, test_dataset = dataset[\"train\"], dataset[\"test\"]"
      ],
      "execution_count": null,
      "outputs": []
    },
    {
      "cell_type": "code",
      "metadata": {
        "id": "8pYiIOYp_KN-",
        "colab_type": "code",
        "colab": {}
      },
      "source": [
        "# Since class names are not included in the dataset, store them here for later when plotting the images\n",
        "class_names = [\"T-shirt/top\", \"Trouser\", \"Pullover\", \"Dress\", \"Coat\", \"Sandal\", \"Shirt\", \"Sneaker\", \"Bag\", \"Ankle boot\"]"
      ],
      "execution_count": null,
      "outputs": []
    },
    {
      "cell_type": "markdown",
      "metadata": {
        "id": "O5SV4qoM_n-J",
        "colab_type": "text"
      },
      "source": [
        "**Explore the data**"
      ]
    },
    {
      "cell_type": "markdown",
      "metadata": {
        "id": "_VuE-6WU9EaL",
        "colab_type": "text"
      },
      "source": [
        "Datasets are split into the **training set** and the **testing set**.\n",
        "\n",
        "This is so we can see how the model performs beyond what it has seen during training, and whether it has actually learned instead of just memorizing the examples.\n",
        "\n",
        "A **validation dataset** is not used for training, but to test the model during training. It is used to measure the final accuracy of the model.\n",
        "\n",
        "If loss is being reduced during training but accuracy deteriorates on the validation dataset, it means the model is memorizing the test set."
      ]
    },
    {
      "cell_type": "code",
      "metadata": {
        "id": "VCqUzGUs_pjF",
        "colab_type": "code",
        "colab": {
          "base_uri": "https://localhost:8080/",
          "height": 51
        },
        "outputId": "4f07c76d-f88a-4a68-e412-5c92ebbc285e"
      },
      "source": [
        "num_train_examples = metadata.splits[\"train\"].num_examples\n",
        "num_test_examples = metadata.splits[\"test\"].num_examples\n",
        "print(\"Number of training examples: {}\".format(num_train_examples))\n",
        "print(\"Number of testing examples: {}\".format(num_test_examples))"
      ],
      "execution_count": null,
      "outputs": [
        {
          "output_type": "stream",
          "text": [
            "Number of training examples: 60000\n",
            "Number of testing examples: 10000\n"
          ],
          "name": "stdout"
        }
      ]
    },
    {
      "cell_type": "markdown",
      "metadata": {
        "id": "2aD1dU2LYvMv",
        "colab_type": "text"
      },
      "source": [
        "**Preprocess and explore the data**\n",
        "\n",
        "The value of each pixel is an integer in range [0, 255]. We need to convert these to [0, 1] using a **normalization function**."
      ]
    },
    {
      "cell_type": "code",
      "metadata": {
        "id": "Azorh5LbY7q8",
        "colab_type": "code",
        "colab": {}
      },
      "source": [
        "def normalize(images, labels):\n",
        "  # tf.cast changes pixel values to 32-bit floats\n",
        "  images = tf.cast(images, tf.float32)\n",
        "  images /= 255\n",
        "  return images, labels\n",
        "\n",
        "# The map function applies normalize() to each element in the datasets\n",
        "train_dataset = train_dataset.map(normalize)\n",
        "test_dataset = test_dataset.map(normalize)"
      ],
      "execution_count": null,
      "outputs": []
    },
    {
      "cell_type": "code",
      "metadata": {
        "id": "WhRA-AifZyX1",
        "colab_type": "code",
        "colab": {
          "base_uri": "https://localhost:8080/",
          "height": 269
        },
        "outputId": "064c0147-2765-4a9f-9350-43f6f9c6b579"
      },
      "source": [
        "# Take a single image, remove the colour dimension by reshaping\n",
        "for image, label in test_dataset.take(1):\n",
        "  break\n",
        "image = image.numpy().reshape((28, 28))\n",
        "\n",
        "# Plot the image\n",
        "plt.figure()\n",
        "plt.imshow(image, cmap=plt.cm.binary)\n",
        "plt.colorbar()\n",
        "plt.grid(False)\n",
        "plt.show()"
      ],
      "execution_count": null,
      "outputs": [
        {
          "output_type": "display_data",
          "data": {
            "image/png": "[encoded data removed]",
            "text/plain": [
              "<Figure size 432x288 with 2 Axes>"
            ]
          },
          "metadata": {
            "tags": [],
            "needs_background": "light"
          }
        }
      ]
    },
    {
      "cell_type": "markdown",
      "metadata": {
        "id": "-knFfXfuaQ2I",
        "colab_type": "text"
      },
      "source": [
        "**Build the Model**"
      ]
    },
    {
      "cell_type": "markdown",
      "metadata": {
        "id": "uwg-182O8OKO",
        "colab_type": "text"
      },
      "source": [
        "The **ReLU** function allows the network to solve nonlinear problems. "
      ]
    },
    {
      "cell_type": "markdown",
      "metadata": {
        "id": "-8tXrjp87vCI",
        "colab_type": "text"
      },
      "source": [
        "The probability values for the classes are created using the **softmax function**.\n",
        "\n",
        "All classification neural networks use softmax functions."
      ]
    },
    {
      "cell_type": "code",
      "metadata": {
        "id": "tLlSSNApaZGV",
        "colab_type": "code",
        "colab": {}
      },
      "source": [
        "# Setting up the layers\n",
        "model = tf.keras.Sequential([\n",
        "  tf.keras.layers.Flatten(input_shape=(28, 28, 1)), # Input - 28x28x1 array\n",
        "  tf.keras.layers.Dense(128, activation=tf.nn.relu), # Hidden\n",
        "  tf.keras.layers.Dense(10, activation=tf.nn.softmax) # Output                            \n",
        "])"
      ],
      "execution_count": null,
      "outputs": []
    },
    {
      "cell_type": "code",
      "metadata": {
        "id": "mAHmzMG7bQ0g",
        "colab_type": "code",
        "colab": {}
      },
      "source": [
        "# Compiling the model\n",
        "# Will use default learning rate, so \"adam\" can be passed as a string\n",
        "model.compile(optimizer=\"adam\", \n",
        "              loss=\"sparse_categorical_crossentropy\", \n",
        "              metrics=[\"accuracy\"])"
      ],
      "execution_count": null,
      "outputs": []
    },
    {
      "cell_type": "markdown",
      "metadata": {
        "id": "4roqNSCkcdmB",
        "colab_type": "text"
      },
      "source": [
        "**Train the Model**"
      ]
    },
    {
      "cell_type": "markdown",
      "metadata": {
        "id": "hDahMaadcfuT",
        "colab_type": "text"
      },
      "source": [
        "1. dataset.repeat() repeats training forever, only limited by the epochs parameter\n",
        "\n",
        "2. dataset.shuffle(60000) randomizes the order so our model cannot learn anything from the order of the examples\n",
        "\n",
        "3. dataset.batch(32) tells model.fit to use batches of 32 images and labels when training\n",
        "\n",
        "4. Don't worry about steps_per_epoch"
      ]
    },
    {
      "cell_type": "code",
      "metadata": {
        "id": "M8FA6LYpcDwX",
        "colab_type": "code",
        "colab": {}
      },
      "source": [
        "BATCH_SIZE = 32\n",
        "train_dataset = train_dataset.repeat().shuffle(num_train_examples).batch(BATCH_SIZE)\n",
        "test_dataset = test_dataset.batch(BATCH_SIZE)\n",
        "\n",
        "model.fit(train_dataset, epochs=15, steps_per_epoch=math.ceil(num_train_examples/BATCH_SIZE))"
      ],
      "execution_count": null,
      "outputs": []
    },
    {
      "cell_type": "markdown",
      "metadata": {
        "id": "UB5fGrdUdSAL",
        "colab_type": "text"
      },
      "source": [
        "**Evaluating Accuracy**\n",
        "\n",
        "Applies model to test dataset"
      ]
    },
    {
      "cell_type": "code",
      "metadata": {
        "id": "8R5YcaubdaS2",
        "colab_type": "code",
        "colab": {
          "base_uri": "https://localhost:8080/",
          "height": 71
        },
        "outputId": "cd628b1d-56c9-4fc6-b07e-0cef6c5e93eb"
      },
      "source": [
        "test_loss, test_accuracy = model.evaluate(test_dataset, steps=math.ceil(num_test_examples/32))\n",
        "print(\"Accuracy on test dataset: \", test_accuracy)"
      ],
      "execution_count": null,
      "outputs": [
        {
          "output_type": "stream",
          "text": [
            "313/313 [==============================] - 2s 6ms/step - loss: 0.3436 - accuracy: 0.8876\n",
            "Accuracy on test dataset:  0.8876000046730042\n"
          ],
          "name": "stdout"
        }
      ]
    },
    {
      "cell_type": "markdown",
      "metadata": {
        "id": "6oLdKiMtd3RW",
        "colab_type": "text"
      },
      "source": [
        "**Final Testing**"
      ]
    },
    {
      "cell_type": "code",
      "metadata": {
        "id": "O1GTURhxd56j",
        "colab_type": "code",
        "colab": {
          "base_uri": "https://localhost:8080/",
          "height": 68
        },
        "outputId": "a9ceb4c1-1dea-41ac-bedf-d44511c2cb1d"
      },
      "source": [
        "for test_images, test_labels in test_dataset.take(1):\n",
        "  test_images = test_images.numpy()\n",
        "  test_labels = test_labels.numpy()\n",
        "  predictions = model.predict(test_images)\n",
        "\n",
        "# Shows the probability distribution across all labels (notice how 4 is the highest)\n",
        "predictions[0]"
      ],
      "execution_count": null,
      "outputs": [
        {
          "output_type": "execute_result",
          "data": {
            "text/plain": [
              "array([3.39958001e-06, 3.94066042e-08, 1.15931155e-02, 4.29752482e-08,\n",
              "       9.60031331e-01, 2.81780501e-08, 2.83597149e-02, 8.72001304e-10,\n",
              "       1.23248055e-05, 4.67634642e-09], dtype=float32)"
            ]
          },
          "metadata": {
            "tags": []
          },
          "execution_count": 14
        }
      ]
    },
    {
      "cell_type": "code",
      "metadata": {
        "id": "sOC7PMlgfIIa",
        "colab_type": "code",
        "colab": {
          "base_uri": "https://localhost:8080/",
          "height": 34
        },
        "outputId": "d8b049a9-ad3d-4399-8a41-ce07a4b2a830"
      },
      "source": [
        "# Shows which index the model believes is the most likely\n",
        "np.argmax(predictions[0])"
      ],
      "execution_count": null,
      "outputs": [
        {
          "output_type": "execute_result",
          "data": {
            "text/plain": [
              "4"
            ]
          },
          "metadata": {
            "tags": []
          },
          "execution_count": 24
        }
      ]
    },
    {
      "cell_type": "code",
      "metadata": {
        "id": "JDZIj2PlfOT8",
        "colab_type": "code",
        "colab": {
          "base_uri": "https://localhost:8080/",
          "height": 34
        },
        "outputId": "0ef85401-2462-4dfe-b64c-45151b237a33"
      },
      "source": [
        "# The model is most confident this is a dress, or class_names[4].\n",
        "# Let's check\n",
        "test_labels[0]"
      ],
      "execution_count": null,
      "outputs": [
        {
          "output_type": "execute_result",
          "data": {
            "text/plain": [
              "4"
            ]
          },
          "metadata": {
            "tags": []
          },
          "execution_count": 25
        }
      ]
    },
    {
      "cell_type": "code",
      "metadata": {
        "id": "yhOIdJcOhgip",
        "colab_type": "code",
        "colab": {}
      },
      "source": [
        "# Basic code to test the model\n",
        "def plot_image(i, predictions_array, true_labels, images):\n",
        "  predictions_array, true_label, img = predictions_array[i], true_labels[i], images[i]\n",
        "  plt.grid(False)\n",
        "  plt.xticks([])\n",
        "  plt.yticks([])\n",
        "\n",
        "  plt.imshow(img[...,0], cmap=plt.cm.binary)\n",
        "\n",
        "  predicted_label = np.argmax(predictions_array)\n",
        "  if predicted_label == true_label:\n",
        "    color = 'blue'\n",
        "  else:\n",
        "    color = 'red'\n",
        "\n",
        "  plt.xlabel(\"{} {:2.0f}% ({})\".format(class_names[predicted_label],\n",
        "                                100*np.max(predictions_array),\n",
        "                                class_names[true_label]),\n",
        "                                color=color)\n",
        "\n",
        "def plot_value_array(i, predictions_array, true_label):\n",
        "  predictions_array, true_label = predictions_array[i], true_label[i]\n",
        "  plt.grid(False)\n",
        "  plt.xticks([])\n",
        "  plt.yticks([])\n",
        "  thisplot = plt.bar(range(10), predictions_array, color=\"#777777\")\n",
        "  plt.ylim([0, 1])\n",
        "  predicted_label = np.argmax(predictions_array)\n",
        "\n",
        "  thisplot[predicted_label].set_color('red')\n",
        "  thisplot[true_label].set_color('blue')"
      ],
      "execution_count": null,
      "outputs": []
    },
    {
      "cell_type": "code",
      "metadata": {
        "id": "OA-wWYJRnPbT",
        "colab_type": "code",
        "colab": {
          "base_uri": "https://localhost:8080/",
          "height": 203
        },
        "outputId": "a3f8ee6c-64e0-4e75-c1d7-f0a4275a9764"
      },
      "source": [
        "i = 0\n",
        "plt.figure(figsize=(6,3))\n",
        "plt.subplot(1,2,1)\n",
        "plot_image(i, predictions, test_labels, test_images)\n",
        "plt.subplot(1,2,2)\n",
        "plot_value_array(i, predictions,  test_labels)"
      ],
      "execution_count": null,
      "outputs": [
        {
          "output_type": "display_data",
          "data": {
            "image/png": "[encoded data removed]",
            "text/plain": [
              "<Figure size 432x216 with 2 Axes>"
            ]
          },
          "metadata": {
            "tags": []
          }
        }
      ]
    },
    {
      "cell_type": "code",
      "metadata": {
        "id": "uTVRX7p7nQAo",
        "colab_type": "code",
        "colab": {
          "base_uri": "https://localhost:8080/",
          "height": 203
        },
        "outputId": "a392f9ba-f83a-4b6e-ac5f-414278644e80"
      },
      "source": [
        "i = 12\n",
        "plt.figure(figsize=(6,3))\n",
        "plt.subplot(1,2,1)\n",
        "plot_image(i, predictions, test_labels, test_images)\n",
        "plt.subplot(1,2,2)\n",
        "plot_value_array(i, predictions,  test_labels)"
      ],
      "execution_count": null,
      "outputs": [
        {
          "output_type": "display_data",
          "data": {
            "image/png": "[encoded data removed]",
            "text/plain": [
              "<Figure size 432x216 with 2 Axes>"
            ]
          },
          "metadata": {
            "tags": []
          }
        }
      ]
    },
    {
      "cell_type": "markdown",
      "metadata": {
        "id": "8Iihm5UYmHeu",
        "colab_type": "text"
      },
      "source": [
        "![alt text](https://video.udacity-data.com/topher/2019/April/5ca67b6c_table-v3/table-v3.png)"
      ]
    }
  ]
}