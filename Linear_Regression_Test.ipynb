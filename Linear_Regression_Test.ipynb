{
  "nbformat": 4,
  "nbformat_minor": 0,
  "metadata": {
    "colab": {
      "name": "Udacity 2.2 - Linear Regression Test.ipynb",
      "provenance": [],
      "authorship_tag": "ABX9TyPEATeeuz6WsdqGZ73pY70G",
      "include_colab_link": true
    },
    "kernelspec": {
      "name": "python3",
      "display_name": "Python 3"
    }
  },
  "cells": [
    {
      "cell_type": "markdown",
      "metadata": {
        "id": "view-in-github",
        "colab_type": "text"
      },
      "source": [
        "<a href=\"https://colab.research.google.com/github/Chubbyman2/Udacity_Tensorflow_Tutorials/blob/master/Linear_Regression_Test.ipynb\" target=\"_parent\"><img src=\"https://colab.research.google.com/assets/colab-badge.svg\" alt=\"Open In Colab\"/></a>"
      ]
    },
    {
      "cell_type": "markdown",
      "metadata": {
        "id": "aqG1NlbKbZE6",
        "colab_type": "text"
      },
      "source": [
        "The goal is to model the equation y = 69x + 420"
      ]
    },
    {
      "cell_type": "code",
      "metadata": {
        "id": "24NHxxzWbDSw",
        "colab_type": "code",
        "colab": {}
      },
      "source": [
        "import tensorflow as tf\n",
        "tf.compat.v1.logging.set_verbosity(tf.compat.v1.logging.ERROR)\n",
        "import numpy as np"
      ],
      "execution_count": null,
      "outputs": []
    },
    {
      "cell_type": "code",
      "metadata": {
        "id": "h0UUe2Y9bm7O",
        "colab_type": "code",
        "colab": {}
      },
      "source": [
        "test_inputs = np.array([1, 2, 4, 5, 7, 9])\n",
        "test_outputs = np.array([489, 558, 696, 765, 903, 1041])"
      ],
      "execution_count": null,
      "outputs": []
    },
    {
      "cell_type": "code",
      "metadata": {
        "id": "WNOtrU05cEAc",
        "colab_type": "code",
        "colab": {
          "base_uri": "https://localhost:8080/",
          "height": 68
        },
        "outputId": "a4afdad0-f147-4a0d-de49-7a1ffe6968be"
      },
      "source": [
        "# Building the layer\n",
        "l0 = tf.keras.layers.Dense(units=1, input_shape=[1])\n",
        "\n",
        "# Assembling layers into the model\n",
        "model = tf.keras.Sequential([l0]) # Remember, you pass tensors!\n",
        "\n",
        "# Compiling the model\n",
        "model.compile(loss=\"mean_squared_error\", optimizer=tf.keras.optimizers.Adam(0.1))\n",
        "\n",
        "# Training the model\n",
        "trained = model.fit(test_inputs, test_outputs, epochs=15000, verbose=False)\n",
        "\n",
        "print(\"These are the layer variables: {}\".format(l0.get_weights()))\n",
        "print(model.predict([0]))\n",
        "print(model.predict([-1]))"
      ],
      "execution_count": null,
      "outputs": [
        {
          "output_type": "stream",
          "text": [
            "These are the layer variables: [array([[69.00006]], dtype=float32), array([419.9996], dtype=float32)]\n",
            "[[419.9996]]\n",
            "[[350.99954]]\n"
          ],
          "name": "stdout"
        }
      ]
    },
    {
      "cell_type": "markdown",
      "metadata": {
        "id": "b-dNxtsOd5aH",
        "colab_type": "text"
      },
      "source": [
        "Note: **History** attribute is a dictionary recording training loss values and metrics values at successive epochs, as well as validation loss values and validation metrics values (if applicable)\n",
        "\n",
        "*plt.plot(history.history[\"loss\"])"
      ]
    }
  ]
}